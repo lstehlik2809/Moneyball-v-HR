{
 "cells": [
  {
   "cell_type": "markdown",
   "metadata": {},
   "source": [
    "# Moneyball v HR\n",
    "## *Od HR analytiky ke sportovní analytice a zpět*"
   ]
  },
  {
   "cell_type": "markdown",
   "metadata": {},
   "source": [
    "HR analytika už dnes není ve světě HR žádnou horkou novinkou. Téměř všichni z oboru, ale i mnozí mimo něj už o HR analytice něco slyšeli, něco o ní vědí a případně se jí už také poukouší ve svých organizacích v nějaké podobě zavádět. Zároveň většinou uznávají její důležitost při transformaci HR z podpůrné a administrativní funkce na funkci, která dokáže organizacím bezprostředně pomáhat dosahovat jejich obchodních a strategických cílů. Navzdory tomuto všeobecnému povědomí o HR analytice a jejímu pozitivnímu obrazu v očích HR profesionálů i managementu firem a navzdory řadě úspěšně realizovaných HR analytických projektů (viz např. série článků od [Davida Greena](https://www.linkedin.com/in/davidrgreen/) - [článek 1](https://www.linkedin.com/pulse/20-people-analytics-case-studies-part-1-david-green/?trk=mp-author-card), [článek 2](https://www.linkedin.com/pulse/20-people-analytics-case-studies-part-2-david-green/?published=t), [článek 3](https://www.linkedin.com/pulse/20-more-people-analytics-case-studies-part-i-david-green/), [článek 4](https://www.linkedin.com/pulse/20-people-analytics-case-studies-part-ii-david-green/?published=t&lipi=urn%3Ali%3Apage%3Ad_flagship3_pulse_read%3BFsCNnpkoSuyb52Adn9lUhw%3D%3D)), překvapivě málo organizací HR analytiku skutečně provozuje. Jak ukázaly výsledky výzkumu [2018 Human Capital Trends](https://www2.deloitte.com/cz/en/pages/human-capital/articles/globalni-trendy-v-oblasti-lidskeho-kapitalu-pro-rok-2018.html) od společnosti Deloitte, organizace si většinou uvědomují strategickou důležitost výzvy, kterou představuje datifikace HR, zároveň ale platí, že se stále necítí být na čelení této výzvě příliš dobře připraveny. Už nějakou dobu platí, že když už se v organizaci s HR daty nějak pracuje, tak je to většinou na úrovni nějakého základního reportingu. Spíše výjimečně se využívají nějaké pokročilejší analytiky, které přitom mají větší potenciál přijít s doporučeními s větším efektem. A když už se v rámci nějakého HR analytického projektu nějaká pokročilejší analytika využívá, jedná se často o izolované projekty, které jsou navíc zaměřené spíše na řešení operativních problémů, jako je např. vysoká odchodovost zaměstnanců, a méně již na řešení problémů spojených s obchodními výsledky společnosti. \n",
    "\n",
    "Výsledky [výzkumu provedeného společnostmi MIT Sloan Management Review a SAS](https://sloanreview.mit.edu/projects/the-hard-work-behind-data-analytics-strategy/) naznačují, že tento nevyužitý potenciál HR analytiky má dvě hlavní příčiny. První z nich je to, že tradiční HR mnohdy postrádá analytický mindset a některé z kompetencí, které jsou klíčové pro úspěšnou realizaci HR analytických projektů (přehled těchto kompetencí a důsledků jejich absence či nedostatečné úrovně viz např. [tento článek](https://mortenkamp.com/2016/06/06/six-must-have-competencies-in-a-world-class-analytics-team/) od [Mortena Kamp Andersena](https://www.linkedin.com/in/mortenkampandersen/)). Ve stejném duchu [Josh Bersin](https://www.linkedin.com/in/bersin/) ve své zprávě [HR Technology Disruptions for 2018](http://marketing.bersin.com/rs/976-LMP-699/images/HRTechDisruptions2018-Report-100517.pdf) konstatuje, že zvládnutí základních analytických dovedností patří mezi nejdůležitější prediktory efektivní implementace HR analytiky v organizacích: \"*Equip all HR staff with basic data literacy skills. All HR practitioners should know basic statistical concepts, where to find data, how to slice and dice it, how to read a dashboard, and how to bring data and analytics to bear on business issues. Our research reveals that such basic skills are among the most important predictors of high-performing people analytics.*\" \n",
    "\n",
    "Druhou hlavní příčinou je potom to, že HR analytické projekty nebývají ukotveny v rámci nějaké širší strategie, jak data systematicky využívat při řízení lidských zdrojů, navíc způsobem, který by byl sladěný se strategickými cíli celé společnosti. Zde platí praxí osvědčená pravda projektového managementu, že při implementaci projektů je potřeba vždy začínat od konce. V kontextu HR analytických projektů to tedy znamená začínat nikoli od dat, ale od toho, k čemu mají být HR analytické výstupy použity. A očekávání seniorního managementu je, že HR analytika bude v posledku hlavně pomáhat zlepšovat obchodní výsledky společnosti. Názorně to ilustruje níže uvedené schéma (převzaté z [článku](https://www.hrzone.com/lead/strategy/why-hr-needs-to-up-its-game-in-strategic-people-analytics) [Maxe Blumberga](https://www.linkedin.com/in/maxblumberg/)), které zachycuje předpokládaný kauzální řetězec spojující HR procesy s obchodními výsledky. V jeho rámci implementace HR analytického projektu představuje de facto druh [reverzního inženýrství](https://cs.wikipedia.org/wiki/Reverzn%C3%AD_in%C5%BEen%C3%BDrstv%C3%AD) - nejdříve se HR analytik s pomocí svých analytických nástrojů a jemu dostupných dat pokouší nalézt cestu od daného obchodního problému k HR procesům, které by ho mohly pomoct vyřešit, a potom se s pomocí stejných prostředků snaží najít způsob, jak identifikované HR procesy upravit tak, aby ve svém konečném důsledku napomohly k vyřešení obchodního problému, který stál na samotném počátku celého HR analytického projektu.  \n",
    "\n",
    "<img src=\"www/HRValueChain.png\", height=\"842\" width=\"842\">\n",
    "\n",
    "Řadě organizací by v tomto ohledu mohl být inspirací známý příběh [oaklandského baseballového týmu „Áček“](https://en.wikipedia.org/wiki/Oakland_Athletics), který se stal předlohou pro [knihu Moneyball](https://en.wikipedia.org/wiki/Moneyball) a z ní vycházející stejnojmenný [film](https://www.csfd.cz/film/255150-moneyball/prehled/). Právě tento příběh jako jeden z prvních ukázal a mezi širokou veřejností zpopularizoval možnosti využití statistické analýzy ve světě sportu a potažmo také v rámci řízení lidských zdrojů. Díky radikální změně dosavadního přístupu k výběru nových hráčů, který se začal více opírat o výstupy statistické analýzy [sabermetrických](https://en.wikipedia.org/wiki/Sabermetrics) dat o herním chování hráčů, dokázal management oaklandského baseballového týmu „Áček“ přijímat rozhodnutí, která z jednoho z nejchudších týmů americké baseballové ligy učinila jeden z nejúspěšnějších týmů soutěže (měřeno počtem vítězství v základní části soutěže a počtem postupů do play-off). Abychom mohli tento příběh plně vytěžit coby inspiraci pro vlastní snažení v oblasti analýzy zaměstnaneckých dat, bude užitečné, když se na jednotlivé analytické kroky, které stály v pozadí úspěchu oklandských \"Áček\", podíváme trochu podrobněji. A učiníme tak za využití volně dostupného [statistického softwaru R](https://www.r-project.org/) a veřejně dostupné [databáze historických údajů o výsledcích v americké baseballové lize](https://drive.google.com/file/d/0B5YUO0Asd9KfMG1UaXpEVjJqQWc/view)."
   ]
  },
  {
   "cell_type": "markdown",
   "metadata": {},
   "source": [
    "## 1. krok: Začít od konce aneb strategický rámec HR analytiky\n",
    "\n",
    "Jak bylo uvedeno výše, často podceňovaným krokem při zavádění HR analytiky do firem a organizací je zasazení HR analytiky do nějakého širšího strategického rámce, ze kterého by jasně vyplývalo, čemu má vlastně HR analytika sloužit. HR analytika je pouze nástroj, konkrétně nástroj na zodpovídání otázek, resp. na testování různých hypotéz. To, zda bude tento nástroj užitečný, závisí na tom, zda si dokážeme klást ty správné otázky. To je přitom z velké části dáno tím, zda si jsme vědomi, jaké jsou strategické cíle naší organizace. Jen ve světle těchto cílů dává smysl klást si nějaké otázky, sbírat a analyzovat nějaká data za účelem nalezení odpovědí na položené otázky a posléze činit nějaká konkrétní rozhodnutí na základě nalezených odpovědí. V případě oaklandských „Áček“ byl cíl jasný – kvalifikovat se do play-off. "
   ]
  },
  {
   "cell_type": "markdown",
   "metadata": {},
   "source": [
    "## 2. krok: Definice problému a kvantifikace cíle\n",
    "[Paul DePodesta](https://en.wikipedia.org/wiki/Paul_DePodesta), kterého generální manažer oaklandských „Áček“ [Billy Beane](https://en.wikipedia.org/wiki/Billy_Beane) přijal do týmu jako statistického analytika, redukoval tento cíl na celkem jednoduchý matematický problém: Kolik zápasů musí tým vyhrát, aby se kvalifikoval do play-off? K zodpovězení této otázky DePodesta potřeboval historická data o počtu vítězství jednotlivých týmů v minulých sezónách a o tom, zda se jim podařilo postoupit do play-off, či nikoli. "
   ]
  },
  {
   "cell_type": "code",
   "execution_count": 31,
   "metadata": {
    "collapsed": false
   },
   "outputs": [
    {
     "name": "stderr",
     "output_type": "stream",
     "text": [
      "Parsed with column specification:\n",
      "cols(\n",
      "  Team = col_character(),\n",
      "  League = col_character(),\n",
      "  Year = col_integer(),\n",
      "  RS = col_integer(),\n",
      "  RA = col_integer(),\n",
      "  W = col_integer(),\n",
      "  OBP = col_double(),\n",
      "  SLG = col_double(),\n",
      "  BA = col_double(),\n",
      "  Playoffs = col_integer(),\n",
      "  RankSeason = col_integer(),\n",
      "  RankPlayoffs = col_integer(),\n",
      "  G = col_integer(),\n",
      "  OOBP = col_double(),\n",
      "  OSLG = col_double()\n",
      ")\n"
     ]
    },
    {
     "data": {
      "text/html": [
       "<table>\n",
       "<thead><tr><th scope=col>Team</th><th scope=col>League</th><th scope=col>Year</th><th scope=col>RS</th><th scope=col>RA</th><th scope=col>W</th><th scope=col>OBP</th><th scope=col>SLG</th><th scope=col>BA</th><th scope=col>Playoffs</th><th scope=col>RankSeason</th><th scope=col>RankPlayoffs</th><th scope=col>G</th><th scope=col>OOBP</th><th scope=col>OSLG</th></tr></thead>\n",
       "<tbody>\n",
       "\t<tr><td>ARI  </td><td>NL   </td><td>2012 </td><td>734  </td><td>688  </td><td>81   </td><td>0.328</td><td>0.418</td><td>0.259</td><td>0    </td><td>NA   </td><td>NA   </td><td>162  </td><td>0.317</td><td>0.415</td></tr>\n",
       "\t<tr><td>ATL  </td><td>NL   </td><td>2012 </td><td>700  </td><td>600  </td><td>94   </td><td>0.320</td><td>0.389</td><td>0.247</td><td>1    </td><td> 4   </td><td> 5   </td><td>162  </td><td>0.306</td><td>0.378</td></tr>\n",
       "\t<tr><td>BAL  </td><td>AL   </td><td>2012 </td><td>712  </td><td>705  </td><td>93   </td><td>0.311</td><td>0.417</td><td>0.247</td><td>1    </td><td> 5   </td><td> 4   </td><td>162  </td><td>0.315</td><td>0.403</td></tr>\n",
       "\t<tr><td>BOS  </td><td>AL   </td><td>2012 </td><td>734  </td><td>806  </td><td>69   </td><td>0.315</td><td>0.415</td><td>0.260</td><td>0    </td><td>NA   </td><td>NA   </td><td>162  </td><td>0.331</td><td>0.428</td></tr>\n",
       "\t<tr><td>CHC  </td><td>NL   </td><td>2012 </td><td>613  </td><td>759  </td><td>61   </td><td>0.302</td><td>0.378</td><td>0.240</td><td>0    </td><td>NA   </td><td>NA   </td><td>162  </td><td>0.335</td><td>0.424</td></tr>\n",
       "\t<tr><td>CHW  </td><td>AL   </td><td>2012 </td><td>748  </td><td>676  </td><td>85   </td><td>0.318</td><td>0.422</td><td>0.255</td><td>0    </td><td>NA   </td><td>NA   </td><td>162  </td><td>0.319</td><td>0.405</td></tr>\n",
       "\t<tr><td>CIN  </td><td>NL   </td><td>2012 </td><td>669  </td><td>588  </td><td>97   </td><td>0.315</td><td>0.411</td><td>0.251</td><td>1    </td><td> 2   </td><td> 4   </td><td>162  </td><td>0.305</td><td>0.390</td></tr>\n",
       "\t<tr><td>CLE  </td><td>AL   </td><td>2012 </td><td>667  </td><td>845  </td><td>68   </td><td>0.324</td><td>0.381</td><td>0.251</td><td>0    </td><td>NA   </td><td>NA   </td><td>162  </td><td>0.336</td><td>0.430</td></tr>\n",
       "\t<tr><td>COL  </td><td>NL   </td><td>2012 </td><td>758  </td><td>890  </td><td>64   </td><td>0.330</td><td>0.436</td><td>0.274</td><td>0    </td><td>NA   </td><td>NA   </td><td>162  </td><td>0.357</td><td>0.470</td></tr>\n",
       "\t<tr><td>DET  </td><td>AL   </td><td>2012 </td><td>726  </td><td>670  </td><td>88   </td><td>0.335</td><td>0.422</td><td>0.268</td><td>1    </td><td> 6   </td><td> 2   </td><td>162  </td><td>0.314</td><td>0.402</td></tr>\n",
       "</tbody>\n",
       "</table>\n"
      ],
      "text/latex": [
       "\\begin{tabular}{r|lllllllllllllll}\n",
       " Team & League & Year & RS & RA & W & OBP & SLG & BA & Playoffs & RankSeason & RankPlayoffs & G & OOBP & OSLG\\\\\n",
       "\\hline\n",
       "\t ARI   & NL    & 2012  & 734   & 688   & 81    & 0.328 & 0.418 & 0.259 & 0     & NA    & NA    & 162   & 0.317 & 0.415\\\\\n",
       "\t ATL   & NL    & 2012  & 700   & 600   & 94    & 0.320 & 0.389 & 0.247 & 1     &  4    &  5    & 162   & 0.306 & 0.378\\\\\n",
       "\t BAL   & AL    & 2012  & 712   & 705   & 93    & 0.311 & 0.417 & 0.247 & 1     &  5    &  4    & 162   & 0.315 & 0.403\\\\\n",
       "\t BOS   & AL    & 2012  & 734   & 806   & 69    & 0.315 & 0.415 & 0.260 & 0     & NA    & NA    & 162   & 0.331 & 0.428\\\\\n",
       "\t CHC   & NL    & 2012  & 613   & 759   & 61    & 0.302 & 0.378 & 0.240 & 0     & NA    & NA    & 162   & 0.335 & 0.424\\\\\n",
       "\t CHW   & AL    & 2012  & 748   & 676   & 85    & 0.318 & 0.422 & 0.255 & 0     & NA    & NA    & 162   & 0.319 & 0.405\\\\\n",
       "\t CIN   & NL    & 2012  & 669   & 588   & 97    & 0.315 & 0.411 & 0.251 & 1     &  2    &  4    & 162   & 0.305 & 0.390\\\\\n",
       "\t CLE   & AL    & 2012  & 667   & 845   & 68    & 0.324 & 0.381 & 0.251 & 0     & NA    & NA    & 162   & 0.336 & 0.430\\\\\n",
       "\t COL   & NL    & 2012  & 758   & 890   & 64    & 0.330 & 0.436 & 0.274 & 0     & NA    & NA    & 162   & 0.357 & 0.470\\\\\n",
       "\t DET   & AL    & 2012  & 726   & 670   & 88    & 0.335 & 0.422 & 0.268 & 1     &  6    &  2    & 162   & 0.314 & 0.402\\\\\n",
       "\\end{tabular}\n"
      ],
      "text/markdown": [
       "\n",
       "Team | League | Year | RS | RA | W | OBP | SLG | BA | Playoffs | RankSeason | RankPlayoffs | G | OOBP | OSLG | \n",
       "|---|---|---|---|---|---|---|---|---|---|\n",
       "| ARI   | NL    | 2012  | 734   | 688   | 81    | 0.328 | 0.418 | 0.259 | 0     | NA    | NA    | 162   | 0.317 | 0.415 | \n",
       "| ATL   | NL    | 2012  | 700   | 600   | 94    | 0.320 | 0.389 | 0.247 | 1     |  4    |  5    | 162   | 0.306 | 0.378 | \n",
       "| BAL   | AL    | 2012  | 712   | 705   | 93    | 0.311 | 0.417 | 0.247 | 1     |  5    |  4    | 162   | 0.315 | 0.403 | \n",
       "| BOS   | AL    | 2012  | 734   | 806   | 69    | 0.315 | 0.415 | 0.260 | 0     | NA    | NA    | 162   | 0.331 | 0.428 | \n",
       "| CHC   | NL    | 2012  | 613   | 759   | 61    | 0.302 | 0.378 | 0.240 | 0     | NA    | NA    | 162   | 0.335 | 0.424 | \n",
       "| CHW   | AL    | 2012  | 748   | 676   | 85    | 0.318 | 0.422 | 0.255 | 0     | NA    | NA    | 162   | 0.319 | 0.405 | \n",
       "| CIN   | NL    | 2012  | 669   | 588   | 97    | 0.315 | 0.411 | 0.251 | 1     |  2    |  4    | 162   | 0.305 | 0.390 | \n",
       "| CLE   | AL    | 2012  | 667   | 845   | 68    | 0.324 | 0.381 | 0.251 | 0     | NA    | NA    | 162   | 0.336 | 0.430 | \n",
       "| COL   | NL    | 2012  | 758   | 890   | 64    | 0.330 | 0.436 | 0.274 | 0     | NA    | NA    | 162   | 0.357 | 0.470 | \n",
       "| DET   | AL    | 2012  | 726   | 670   | 88    | 0.335 | 0.422 | 0.268 | 1     |  6    |  2    | 162   | 0.314 | 0.402 | \n",
       "\n",
       "\n"
      ],
      "text/plain": [
       "   Team League Year RS  RA  W  OBP   SLG   BA    Playoffs RankSeason\n",
       "1  ARI  NL     2012 734 688 81 0.328 0.418 0.259 0        NA        \n",
       "2  ATL  NL     2012 700 600 94 0.320 0.389 0.247 1         4        \n",
       "3  BAL  AL     2012 712 705 93 0.311 0.417 0.247 1         5        \n",
       "4  BOS  AL     2012 734 806 69 0.315 0.415 0.260 0        NA        \n",
       "5  CHC  NL     2012 613 759 61 0.302 0.378 0.240 0        NA        \n",
       "6  CHW  AL     2012 748 676 85 0.318 0.422 0.255 0        NA        \n",
       "7  CIN  NL     2012 669 588 97 0.315 0.411 0.251 1         2        \n",
       "8  CLE  AL     2012 667 845 68 0.324 0.381 0.251 0        NA        \n",
       "9  COL  NL     2012 758 890 64 0.330 0.436 0.274 0        NA        \n",
       "10 DET  AL     2012 726 670 88 0.335 0.422 0.268 1         6        \n",
       "   RankPlayoffs G   OOBP  OSLG \n",
       "1  NA           162 0.317 0.415\n",
       "2   5           162 0.306 0.378\n",
       "3   4           162 0.315 0.403\n",
       "4  NA           162 0.331 0.428\n",
       "5  NA           162 0.335 0.424\n",
       "6  NA           162 0.319 0.405\n",
       "7   4           162 0.305 0.390\n",
       "8  NA           162 0.336 0.430\n",
       "9  NA           162 0.357 0.470\n",
       "10  2           162 0.314 0.402"
      ]
     },
     "metadata": {},
     "output_type": "display_data"
    }
   ],
   "source": [
    "# Načtěme si knihovnu, která nám umožní si načíst a předpřipravit data k analýze a také je i vizualizovat. \n",
    "library(tidyverse)\n",
    "library(ggpubr)\n",
    "\n",
    "# Načteme si naše data.\n",
    "baseball <- read_csv(\"./baseball.csv\")\n",
    "\n",
    "# Pro získání lepší představy o nich se podívejme na jejich prvních deset řádků.\n",
    "head(baseball, 10)\n",
    "\n",
    "# Pro následující analýzy si potom vytvořme podmnožinu dat, která měli k dispozici v Oaklandu v roce 2002, kdy se děj Moneyballu převážně odehrává.\n",
    "moneyball <- baseball %>%\n",
    "  filter(Year < 2002)"
   ]
  },
  {
   "cell_type": "markdown",
   "metadata": {},
   "source": [
    "Podíváme-li se na data mezi lety 1996–2001, tj. na data z relativně nedávné minulosti (vztaženo k roku 2002, kdy se děj Moneyballu převážně odehrává), z grafického vyjádření vztahu mezi počtem vítězství v základní částí soutěže a postupem do play-off je dobře patrné, že čím více zápasů tým vyhraje v základní soutěži, tím větší je šance, že se také dostane do play-off. S daty, která máme k dispozici, máme tu výhodu, že můžeme tento vztah přesně kvantifikovat. "
   ]
  },
  {
   "cell_type": "code",
   "execution_count": 32,
   "metadata": {
    "collapsed": false
   },
   "outputs": [
    {
     "data": {},
     "metadata": {},
     "output_type": "display_data"
    },
    {
     "data": {
      "image/png": "[encoded data removed]",
      "text/plain": [
       "plot without title"
      ]
     },
     "metadata": {},
     "output_type": "display_data"
    }
   ],
   "source": [
    "# Vytvořme si graf zobrazující vztah mezi počtem vítězství v základní částí soutěže a postupem do play-off mezi lety 1996-2001\n",
    "moneyball %>%\n",
    "  filter(Year < 2002 & Year > 1995) %>%\n",
    "  select (W, Playoffs) %>%\n",
    "  mutate(rnd = runif(176,0,1)) %>%\n",
    "  ggplot(aes(x = W, y = rnd, color = as.factor(Playoffs)))+\n",
    "  geom_point(size = 2)+\n",
    "  scale_x_continuous(limits=c(50,120), breaks = seq(50,120,5))+\n",
    "  scale_color_manual(values = c(\"#9e9e9e\", \"#ff1919\"), labels = c(\"Tým nepostoupil do play-off\",\"Tým postoupil do play-off\"))+\n",
    "  ggtitle(\"Postupy týmů do play-off mezi lety 1996-2001\")+\n",
    "  ylab(\"\")+\n",
    "  xlab(\"Počet vítězství v základní části soutěže\")+\n",
    "  theme(legend.position = \"bottom\",\n",
    "        axis.ticks.y = element_blank(),\n",
    "        axis.text.y = element_blank(),\n",
    "        axis.text.x = element_text(size=11),\n",
    "        axis.title.x = element_text(size=11),\n",
    "        legend.text = element_text(size=11),\n",
    "        legend.title = element_blank())"
   ]
  },
  {
   "cell_type": "markdown",
   "metadata": {},
   "source": [
    "S daty, která máme k dispozici, máme tu výhodu, že můžeme vztah mezi počtem vítězství v základní části soutěže a šancí na postup do play-off přesně kvantifikovat. Provedeme-li podrobnější analýzu našich dat, ukáže se, že velkou (přibližně 95%) šanci na postup do play-off má tým tehdy, když v základní části vyhraje minimálně 95 zápasů. Těchto 95 vítězství představuje dobře definovaný a kvantifikovaný cíl, kterého by se oaklandská „Áčka“ měla snažit dosáhnout. "
   ]
  },
  {
   "cell_type": "code",
   "execution_count": 33,
   "metadata": {
    "collapsed": false
   },
   "outputs": [
    {
     "data": {},
     "metadata": {},
     "output_type": "display_data"
    },
    {
     "data": {
      "image/png": "[encoded data removed]",
      "text/plain": [
       "plot without title"
      ]
     },
     "metadata": {},
     "output_type": "display_data"
    }
   ],
   "source": [
    "# Vyfiltrujme si opět data mezi lety 1996-2001. \n",
    "moneyball2 <- moneyball %>%\n",
    "  filter(Year < 2002 & Year > 1995)\n",
    "\n",
    "# Vytvořme si seznam několika různých hodnot počtu vítězství v základní části soutěže.\n",
    "pocet_vitezstvi <- seq(60,115,5)\n",
    "ucast_v_playoff <- vector(mode=\"numeric\", length=length(pocet_vitezstvi))\n",
    "playoff_data <- data.frame(pocet_vitezstvi = pocet_vitezstvi, ucast_v_playoff = ucast_v_playoff)\n",
    "\n",
    "# Vypočtěme si, jaká je pravděpodobnost postupu do play-off při různém počtu vítězství v základní části soutěže.\n",
    "for(i in 1:nrow(playoff_data)){\n",
    " playoff_data$ucast_v_playoff[i] <- length(moneyball2$W[moneyball2$W >= playoff_data$pocet_vitezstvi[i] & moneyball2$Playoffs == 1])/length(moneyball2$W[moneyball2$W >= playoff_data$pocet_vitezstvi[i]]) \n",
    "}\n",
    "\n",
    "# A nyní si vztah mezi počtem vyhraných zápasů v základní části soutěže a pravděpodobností účasti v play-off vizualizujme.\n",
    "ggplot(playoff_data, aes(x = pocet_vitezstvi, y = ucast_v_playoff))+\n",
    "  geom_point(size = 2)+\n",
    "  geom_line()+\n",
    "  ggtitle(\"Souvislost mezi počtem výher v základní části soutěže a\\npravděpodobností postupu týmu do play-off (1996-2001)\")+\n",
    "  ylab(\"Pravděpodobnost postupu týmu do play-off\")+\n",
    "  xlab(\"Počet vítězství v základní části soutěže\")+\n",
    "  scale_x_continuous(limits=c(60,115), breaks = seq(60,115,5))+\n",
    "  scale_y_continuous(limits=c(0,1), breaks = seq(0,1,0.1))+\n",
    "  theme(axis.text = element_text(size=11),\n",
    "        axis.title = element_text(size=11))"
   ]
  },
  {
   "cell_type": "markdown",
   "metadata": {},
   "source": [
    "## 3. krok: Kladení otázek a měření\n",
    "S takto definovaným a kvantifikovaným cílem si potom můžeme klást dalších otázky, na které když si dokážeme odpovědět, zvýšíme tím naše šance na to, že tohoto cíle dosáhneme. V případě oaklandských „Áček“ se můžeme ptát, díky čemu tým dosahuje v zápasech vítězství? Celkem zjevná odpověď zní, že díky tomu, že dokáže získat více bodů než jeho soupeři. Otázkou ale je, přesně o kolik bodů navíc musí tým získat, aby v základní části soutěže dosáhl na minimálně 95 vítězství. K zodpovězení této otázky opět potřebujeme historická data (údaje o vyhraných a prohraných bodech) a relativně jednoduchý statistický model zvaný [lineární regrese](https://cs.wikipedia.org/wiki/Lineární_regrese), pomocí kterého můžeme popsat vztah mezi počtem vyhraných zápasů v základní části soutěže a rozdílem mezi vyhranými a prohranými body. Z níže uvedeného grafu je zřejmé, že mezi těmito dvěma proměnnými je velice těsný vztah a že spolu velice silně [korelují](https://cs.wikipedia.org/wiki/Korelace)."
   ]
  },
  {
   "cell_type": "code",
   "execution_count": 34,
   "metadata": {
    "collapsed": false
   },
   "outputs": [
    {
     "data": {},
     "metadata": {},
     "output_type": "display_data"
    },
    {
     "data": {
      "image/png": "[encoded data removed]",
      "text/plain": [
       "plot without title"
      ]
     },
     "metadata": {},
     "output_type": "display_data"
    }
   ],
   "source": [
    "# Vypočtěme si rozdíl mezi vyhranými a prohranými body\n",
    "moneyball <- moneyball %>%\n",
    "  mutate(RD = RS - RA)\n",
    "\n",
    "# Graficky si znázorněme vztah mezi počtem vyhraných zápasů v základní části soutěže a rozdílem mezi vyhranými a prohranými body\n",
    "ggplot(moneyball, aes(x = RD , y = W))+\n",
    "  geom_point(alpha = 0.5, size = 2)+\n",
    "  geom_smooth(method = \"lm\", se = FALSE)+\n",
    "  ggtitle(\"Vztah mezi počtem vítězství v základní části soutěže a\\nrozdílem mezi vyhranými a prohranými body\")+\n",
    "  xlab(\"Rozdíl mezi počtem vyhraných a prohraných bodů\")+\n",
    "  ylab(\"Počet vítězství\")+\n",
    "  theme(axis.title = element_text(size = 11),\n",
    "        axis.text = element_text(size = 11))+\n",
    "  scale_x_continuous(limits = c(-350,350), breaks = seq(-350,350,50))+\n",
    "  scale_y_continuous(limits = c(40, 120), breaks = seq(40,120,10))+\n",
    "  stat_cor(method = \"pearson\", label.x = 275, label.y = 45)"
   ]
  },
  {
   "cell_type": "markdown",
   "metadata": {},
   "source": [
    "Při použití modelu lineární regrese můžeme vztah mezi těmito dvěma proměnnými popsat trochu podrobněji. "
   ]
  },
  {
   "cell_type": "code",
   "execution_count": 35,
   "metadata": {
    "collapsed": false
   },
   "outputs": [
    {
     "data": {
      "text/plain": [
       "\n",
       "Call:\n",
       "glm(formula = W ~ RD, family = \"gaussian\", data = moneyball)\n",
       "\n",
       "Deviance Residuals: \n",
       "     Min        1Q    Median        3Q       Max  \n",
       "-14.2662   -2.6509    0.1234    2.9364   11.6570  \n",
       "\n",
       "Coefficients:\n",
       "             Estimate Std. Error t value Pr(>|t|)    \n",
       "(Intercept) 80.881375   0.131157  616.67   <2e-16 ***\n",
       "RD           0.105766   0.001297   81.55   <2e-16 ***\n",
       "---\n",
       "Signif. codes:  0 '***' 0.001 '**' 0.01 '*' 0.05 '.' 0.1 ' ' 1\n",
       "\n",
       "(Dispersion parameter for gaussian family taken to be 15.51641)\n",
       "\n",
       "    Null deviance: 117164  on 901  degrees of freedom\n",
       "Residual deviance:  13965  on 900  degrees of freedom\n",
       "AIC: 5037\n",
       "\n",
       "Number of Fisher Scoring iterations: 2\n"
      ]
     },
     "metadata": {},
     "output_type": "display_data"
    }
   ],
   "source": [
    "# Regresní analýza vztahu mezi mezi počtem vyhraných zápasů v základní části soutěže a rozdílem mezi vyhranými a prohranými body \n",
    "reg_model1 <- glm(W ~ RD, data = moneyball, family = \"gaussian\")\n",
    "summary(reg_model1)"
   ]
  },
  {
   "cell_type": "markdown",
   "metadata": {},
   "source": [
    "Výsledná regresní rovnice nám říká, že *očekávaný počet vítězství = 80.88 + 0.106 x Rozdílový skór*. Tzn., že při vyrovnaném poměru vyhraných a prohraných bodů můžeme očekávat, že tým vyhraje přibližně 80 zápasů za sezónu, a že když se rozdílové skóre navýší o deset bodů, můžeme očekávat, že tým vyhraje v průměru o jeden zápas za sezónu navíc. Klíčové je ale pro nás to, že s pomocí této rovnice a s trochou algebry si můžeme jednoduše vypočítat, že k dosažení minimálně 95 vítězství za sezónu potřebuje tým vyhrát přibližně o 133 bodů více, než kolik jich se soupeři prohraje (*(95 - 80.88) / 0.106*).  \n",
    "\n",
    "## 4. krok: Kladení dalších otázek a další měření\n",
    "Tímto zjištěním se náš cíl opět trochu více specifikuje a vyvolává další otázky. Otázka, která se téměř sama nabízí, se týká charakteristik hráčů, které nejlépe předpovídají počet vyhraných a prohraných bodů, a tím tedy také pravděpodobnost postupu týmu do play-off. DePodesta na základě svých analýz zjistil, že počet vyhraných bodů nejtěsněji souvisí s procentem případů, kdy se hráč dostane na metu (tzv. *On-Base Percentage* - OBP), a to, jak daleko se hráč dostane při svém odpalu (tzv. *Slugging Percentage* - SLG). Analogické statistiky pro týmy soupeřů (OOBP a OSLG) potom stejně dobře předpovídají počet prohraných bodů. Když vztah mezi těmito proměnnými popíšeme opět pomocí modelu lineární regrese, můžeme se s jeho pomocí pokusit předpovědět, jak si tým povede příští sezónu. Taková předpověď by přitom mohla být potenciálně velice užitečná, protože na jejím základě bychom případně mohli upravit některá svá rozhodnutí o koupi nebo prodeji vybraných hráčů. Pojďme tuto předpověď vytvořit pro tým oaklandských „Áček“ pro sezónu 2002 na základě dat z let 1962-2001. Z předchozí analýzy již víme, že…  \n",
    "\n",
    "*Počet vítězství = 80.88 + 0.106 x (Počet vyhraných bodů - Počet prohraných bodů)*.  \n",
    "\n",
    "Nyní potřebujeme určit, jaký bude pravděpodobný počet vyhraných a prohraných bodů. Pomůžeme si opět regresní analýzou."
   ]
  },
  {
   "cell_type": "code",
   "execution_count": 36,
   "metadata": {
    "collapsed": false
   },
   "outputs": [
    {
     "data": {
      "text/plain": [
       "\n",
       "Call:\n",
       "lm(formula = RS ~ OBP + SLG, data = moneyball)\n",
       "\n",
       "Residuals:\n",
       "    Min      1Q  Median      3Q     Max \n",
       "-70.838 -17.174  -1.108  16.770  90.036 \n",
       "\n",
       "Coefficients:\n",
       "            Estimate Std. Error t value Pr(>|t|)    \n",
       "(Intercept)  -804.63      18.92  -42.53   <2e-16 ***\n",
       "OBP          2737.77      90.68   30.19   <2e-16 ***\n",
       "SLG          1584.91      42.16   37.60   <2e-16 ***\n",
       "---\n",
       "Signif. codes:  0 '***' 0.001 '**' 0.01 '*' 0.05 '.' 0.1 ' ' 1\n",
       "\n",
       "Residual standard error: 24.79 on 899 degrees of freedom\n",
       "Multiple R-squared:  0.9296,\tAdjusted R-squared:  0.9294 \n",
       "F-statistic:  5934 on 2 and 899 DF,  p-value: < 2.2e-16\n"
      ]
     },
     "metadata": {},
     "output_type": "display_data"
    },
    {
     "data": {
      "text/plain": [
       "\n",
       "Call:\n",
       "lm(formula = RA ~ OOBP + OSLG, data = moneyball)\n",
       "\n",
       "Residuals:\n",
       "    Min      1Q  Median      3Q     Max \n",
       "-82.397 -15.178  -0.129  17.679  60.955 \n",
       "\n",
       "Coefficients:\n",
       "            Estimate Std. Error t value Pr(>|t|)    \n",
       "(Intercept)  -837.38      60.26 -13.897  < 2e-16 ***\n",
       "OOBP         2913.60     291.97   9.979 4.46e-16 ***\n",
       "OSLG         1514.29     175.43   8.632 2.55e-13 ***\n",
       "---\n",
       "Signif. codes:  0 '***' 0.001 '**' 0.01 '*' 0.05 '.' 0.1 ' ' 1\n",
       "\n",
       "Residual standard error: 25.67 on 87 degrees of freedom\n",
       "  (812 observations deleted due to missingness)\n",
       "Multiple R-squared:  0.9073,\tAdjusted R-squared:  0.9052 \n",
       "F-statistic: 425.8 on 2 and 87 DF,  p-value: < 2.2e-16\n"
      ]
     },
     "metadata": {},
     "output_type": "display_data"
    }
   ],
   "source": [
    "# Regresní analýza vztahu mezi mezi počtem vyhraných bodů v základní části soutěže a dvěma vybranými hráčskými/týmovými statistikami \n",
    "regModel2 = lm(RS ~ OBP + SLG, data=moneyball)\n",
    "summary(regModel2)\n",
    "\n",
    "# Regresní analýza vztahu mezi mezi počtem prohraných bodů v základní části soutěže a dvěma vybranými hráčskými/týmovými statistikami \n",
    "regModel3 = lm(RA ~ OOBP + OSLG, data=moneyball)\n",
    "summary(regModel3)"
   ]
  },
  {
   "cell_type": "markdown",
   "metadata": {},
   "source": [
    "S pomocí regresní analýzy jsme zjistili, že…  \n",
    "\n",
    "*Počet vyhraných bodů = -804.63 + 2737.77 x OBP + 1584.91 x SLG*  \n",
    "*Počet prohraných bodů = -837.38 + 2913.60 x OOBP + 1514.29 x OSLG*.  \n",
    "\n",
    "Se znalostí hráčských/týmových statistik oaklandských „Áček“ za rok 2001 se nyní můžeme pokusit předpovědět nejdříve počet vyhraných a prohraných bodů a potom také předpokládaný počet vítězství v základní části soutěže. Při formulování této předpovědi vycházíme z předpokladu, že se složení týmu v průběhu sezóny 2002 nebude (např. z důvodu zranění hráčů) příliš lišit od jeho složení v roce 2001. "
   ]
  },
  {
   "cell_type": "code",
   "execution_count": 37,
   "metadata": {
    "collapsed": false
   },
   "outputs": [
    {
     "data": {
      "text/html": [
       "<table>\n",
       "<thead><tr><th></th><th scope=col>Předpověd</th><th scope=col>Skutečnost</th></tr></thead>\n",
       "<tbody>\n",
       "\t<tr><th scope=row>Vyhrané body</th><td>836</td><td>800</td></tr>\n",
       "\t<tr><th scope=row>Prohrané body</th><td>635</td><td>654</td></tr>\n",
       "\t<tr><th scope=row>Počet vítězství</th><td>102</td><td>103</td></tr>\n",
       "</tbody>\n",
       "</table>\n"
      ],
      "text/latex": [
       "\\begin{tabular}{r|ll}\n",
       "  & Předpověd & Skutečnost\\\\\n",
       "\\hline\n",
       "\tVyhrané body & 836 & 800\\\\\n",
       "\tProhrané body & 635 & 654\\\\\n",
       "\tPočet vítězství & 102 & 103\\\\\n",
       "\\end{tabular}\n"
      ],
      "text/markdown": [
       "\n",
       "| <!--/--> | Předpověd | Skutečnost | \n",
       "|---|---|---|\n",
       "| Vyhrané body | 836 | 800 | \n",
       "| Prohrané body | 635 | 654 | \n",
       "| Počet vítězství | 102 | 103 | \n",
       "\n",
       "\n"
      ],
      "text/plain": [
       "                Předpověd Skutečnost\n",
       "Vyhrané body    836       800       \n",
       "Prohrané body   635       654       \n",
       "Počet vítězství 102       103       "
      ]
     },
     "metadata": {},
     "output_type": "display_data"
    }
   ],
   "source": [
    "# Hráčské/týmové statistiky oaklandských „Áček“ za rok 2001\n",
    "OBP_OAK <- moneyball$OBP[which(moneyball$Team==\"OAK\" & moneyball$Year == 2001)]\n",
    "SLG_OAK <- moneyball$SLG[which(moneyball$Team==\"OAK\" & moneyball$Year == 2001)]\n",
    "OOBP_OAK <- moneyball$OOBP[which(moneyball$Team==\"OAK\" & moneyball$Year == 2001)]\n",
    "OSLG_OAK <- moneyball$OSLG[which(moneyball$Team==\"OAK\" & moneyball$Year == 2001)]\n",
    "\n",
    "# Pravděpodobné hodnoty vybraných statistik oaklandských \"Áček\" pro rok 2002 vypočítané s pomocí odhadnutých regresních modelů\n",
    "pocet_vyhranych_bodu_pred <- round(-804.63 + 2737.77*OBP_OAK + 1584.91*SLG_OAK)\n",
    "pocet_prohranych_bodu_pred <- round(-837.38 + 2913.60*OOBP_OAK + 1514.29*OSLG_OAK)\n",
    "pocet_vitezstvi_pred <- round(80.88 + 0.106 * (pocet_vyhranych_bodu_pred - pocet_prohranych_bodu_pred), 0)\n",
    "\n",
    "# Skutečné hodnoty vybraných statistik oaklandských \"Áček\" pro rok 2002\n",
    "pocet_vyhranych_bodu_real <- baseball$RS[which(baseball$Team==\"OAK\" & baseball$Year == 2002)] \n",
    "pocet_prohranych_bodu_real <- baseball$RA[which(baseball$Team==\"OAK\" & baseball$Year == 2002)] \n",
    "pocet_vitezstvi_real <- baseball$W[which(baseball$Team==\"OAK\" & baseball$Year == 2002)]\n",
    "\n",
    "# Tabulka porovnávající statistické předpovědi se skutečností \n",
    "pred <- c(pocet_vyhranych_bodu_pred, pocet_prohranych_bodu_pred, pocet_vitezstvi_pred)\n",
    "real <- c(pocet_vyhranych_bodu_real, pocet_prohranych_bodu_real, pocet_vitezstvi_real)\n",
    "table <- data.frame(\"Předpověd\" = pred, \"Skutečnost\" = real)\n",
    "row.names(table) <- c(\"Vyhrané body\", \"Prohrané body\", \"Počet vítězství\")\n",
    "table"
   ]
  },
  {
   "cell_type": "markdown",
   "metadata": {},
   "source": [
    "Porovnání našich předpovědí s reálnými výsledky za sezónu 2002 ukazuje, že se nám podařilo velice přesně předpovědět výsledky v nadcházející ligové sezóně, a významně tak snížit míru naší nejistoty při jejím plánování."
   ]
  },
  {
   "cell_type": "markdown",
   "metadata": {},
   "source": [
    "## 5. krok: Propojení dílčích vhledů aneb organizace jako stroj\n",
    "[Matt Dancho](https://www.linkedin.com/in/mattdancho/) ve své metodice k datově-analytickým projektům doporučuje, abychom se při snaze o pochopení obchodního problému organizace na danou organizaci vždy dívali jako na druh stroje s určitými vstupy, procesy a výstupy, které datová analytika může pomoct žádoucím způsobem ovlivnit. Tuto metaforu stroje můžeme využít k tomu, abychom všechny výše uvedené dílčí vhledy spojili do jednotného schématu, v jehož rámci budou mít oaklandská \"Áčka\" podobu jednoduchého stroje na výrobu postupů do play-off (viz obrázek níže). \n",
    "\n",
    "<img src=\"www/machine_producing_playoffs.png\", height=\"442\" width=\"442\">\n",
    "\n",
    "Ze schématu je dobře patrné, jak tento stroj funguje: Jeho výstupem jsou postupy do play-off; těch dosahuje tak, že se snaží vyhrát více zápasů, resp. získat více bodů než soupeřící týmy; k tomu využívá vstupy v podobě schopnosti hráčů hrát dobře na pálce a v poli; vstupem ovlivňujícím chod stroje jsou rovněž obdobné schopnosti hráčů soupeřících týmů. Jedná se samozřejmě o velmi zjednodušený kauzální model fungování týmu oakladnských \"Áček\", ale jak konstatuje slavný statistický aforismus, [modely jsou vždy nepřesné, ale některé z nich jsou užitečné](https://en.wikipedia.org/wiki/All_models_are_wrong), a tento model podle všeho byl užitečný.\n",
    "\n",
    "Jakkoli naše modely fungování organizace budou vždy neúplné, je důležité ověřit, zda tyto modely i přes svou omezenost v dostatečné míře odrážejí realitu jak nám ji zprostředkovávají dostupná data. Za tímto účelem můžeme použít statistickou metodu [strukturálního modelování](https://en.wikipedia.org/wiki/Structural_equation_modeling), která umožňuje formalizovat naše představy o vzájemných vztazích mezi několika různými proměnnými a zhodnotit míru souladu těchto našich představ s dostupnými daty. Teprve po takovém zhodnocení věrohodnosti modelu je rozumné na něm zakládat svá rozhodnutí. Pojďme tedy tuto metodu použít rovněž na náš nově vytvořený model fungování týmu oaklandských \"Áček\" a ověřit jeho věrohodnost. "
   ]
  },
  {
   "cell_type": "code",
   "execution_count": 70,
   "metadata": {
    "collapsed": false
   },
   "outputs": [
    {
     "name": "stdout",
     "output_type": "stream",
     "text": [
      "lavaan (0.5-23.1097) converged normally after 267 iterations\n",
      "\n",
      "                                                  Used       Total\n",
      "  Number of observations                            90         176\n",
      "\n",
      "  Estimator                                       DWLS      Robust\n",
      "  Minimum Function Test Statistic                3.724       7.331\n",
      "  Degrees of freedom                                15          15\n",
      "  P-value (Chi-square)                           0.999       0.948\n",
      "  Scaling correction factor                                  1.382\n",
      "  Shift parameter                                            4.635\n",
      "    for simple second-order correction (Mplus variant)\n",
      "\n",
      "Model test baseline model:\n",
      "\n",
      "  Minimum Function Test Statistic              553.723     372.870\n",
      "  Degrees of freedom                                22          22\n",
      "  P-value                                        0.000       0.000\n",
      "\n",
      "User model versus baseline model:\n",
      "\n",
      "  Comparative Fit Index (CFI)                    1.000       1.000\n",
      "  Tucker-Lewis Index (TLI)                       1.031       1.032\n",
      "\n",
      "  Robust Comparative Fit Index (CFI)                            NA\n",
      "  Robust Tucker-Lewis Index (TLI)                               NA\n",
      "\n",
      "Root Mean Square Error of Approximation:\n",
      "\n",
      "  RMSEA                                          0.000       0.000\n",
      "  90 Percent Confidence Interval          0.000  0.000       0.000  0.010\n",
      "  P-value RMSEA <= 0.05                          1.000       0.981\n",
      "\n",
      "  Robust RMSEA                                                  NA\n",
      "  90 Percent Confidence Interval                             0.000     NA\n",
      "\n",
      "Standardized Root Mean Square Residual:\n",
      "\n",
      "  SRMR                                           0.185       0.185\n",
      "\n",
      "Weighted Root Mean Square Residual:\n",
      "\n",
      "  WRMR                                           0.358       0.358\n",
      "\n",
      "Parameter Estimates:\n",
      "\n",
      "  Information                                 Expected\n",
      "  Standard Errors                           Robust.sem\n",
      "\n",
      "Regressions:\n",
      "                   Estimate   Std.Err  z-value  P(>|z|)   Std.lv   Std.all\n",
      "  Playoffs ~                                                              \n",
      "    W                  0.241    0.115    2.095    0.036     0.241    0.994\n",
      "  W ~                                                                     \n",
      "    RS                 0.099    0.006   16.342    0.000     0.099    0.694\n",
      "    RA                -0.103    0.008  -13.465    0.000    -0.103   -0.738\n",
      "  RA ~                                                                    \n",
      "    OOBP            3046.113  366.056    8.321    0.000  3046.113    0.559\n",
      "    OSLG            1465.117  206.759    7.086    0.000  1465.117    0.448\n",
      "  RS ~                                                                    \n",
      "    OBP             3575.472  259.145   13.797    0.000  3575.472    0.603\n",
      "    SLG             1397.378  144.203    9.690    0.000  1397.378    0.422\n",
      "\n",
      "Intercepts:\n",
      "                   Estimate   Std.Err  z-value  P(>|z|)   Std.lv   Std.all\n",
      "   .Playoffs           0.000                                0.000    0.000\n",
      "   .W                 96.559    8.355   11.556    0.000    96.559    8.256\n",
      "   .RA              -808.808  116.566   -6.939    0.000  -808.808   -9.635\n",
      "   .RS             -1041.496   73.943  -14.085    0.000 -1041.496  -12.759\n",
      "\n",
      "Thresholds:\n",
      "                   Estimate   Std.Err  z-value  P(>|z|)   Std.lv   Std.all\n",
      "    Playoffs|t1       23.191   10.204    2.273    0.023    23.191    8.179\n",
      "\n",
      "Variances:\n",
      "                   Estimate   Std.Err  z-value  P(>|z|)   Std.lv   Std.all\n",
      "   .Playoffs           0.095                                0.095    0.012\n",
      "   .W                  3.968    3.002    1.322    0.186     3.968    0.029\n",
      "   .RA               616.541  107.956    5.711    0.000   616.541    0.087\n",
      "   .RS               514.683   86.782    5.931    0.000   514.683    0.077\n",
      "\n",
      "Scales y*:\n",
      "                   Estimate   Std.Err  z-value  P(>|z|)   Std.lv   Std.all\n",
      "    Playoffs           1.000                                1.000    1.000\n",
      "\n",
      "R-Square:\n",
      "                   Estimate \n",
      "    Playoffs           0.988\n",
      "    W                  0.971\n",
      "    RA                 0.913\n",
      "    RS                 0.923\n",
      "\n"
     ]
    }
   ],
   "source": [
    "# Data, která budeme potřebovat pro ověření věrohodnosti našeho modelu fungování oaklandských \"Áček\" \n",
    "sem_data <- moneyball %>%\n",
    "  filter(Year < 2002 & Year > 1995) %>%\n",
    "  select(RS, RA, RD, W, Playoffs, OBP, SLG, OOBP, OSLG)\n",
    "\n",
    "# Definice modelu, která je v souladu s výše uvedeným schématem\n",
    "library(lavaan)\n",
    "oak_model <- '\n",
    "     Playoffs ~ W\n",
    "     W ~ RS + RA\n",
    "     RA ~ OOBP + OSLG\n",
    "     RS ~ OBP + SLG \n",
    "'\n",
    "# Odhad parametrů modelu\n",
    "fit_oak_model <- sem(oak_model, data = sem_data, missing = \"pairwise\", estimator = \"WLSMV\", ordered = \"Playoffs\")\n",
    "summary(fit_oak_model, standardized = T, fit.measures = T, rsq = T)"
   ]
  },
  {
   "cell_type": "code",
   "execution_count": 71,
   "metadata": {
    "collapsed": false
   },
   "outputs": [
    {
     "data": {
      "image/png": "[encoded data removed]",
      "text/plain": [
       "Plot with title \"\""
      ]
     },
     "metadata": {},
     "output_type": "display_data"
    }
   ],
   "source": [
    "# Grafické znázornění modelu fungování oaklandských \"Áček\" \n",
    "library(semPlot)\n",
    "semPaths(fit_oak_model, \n",
    "         whatLabels=\"std\", \n",
    "         intercepts=FALSE, \n",
    "         style=\"lisrel\",\n",
    "         nCharNodes=0,\n",
    "         nCharEdges=0,\n",
    "         curveAdjacent = TRUE,\n",
    "         title=TRUE,\n",
    "         layout=\"tree2\",\n",
    "         curvePivot=TRUE,\n",
    "         rotation =3)"
   ]
  },
  {
   "cell_type": "markdown",
   "metadata": {},
   "source": [
    "Výstupy provedené tzv. [pěšinkové analýzy](https://en.wikipedia.org/wiki/Path_analysis_(statistics), která je speciálním typem strukturálního modelování, naznačují, že námi navržený model je v souladu s daty, která máme k dispozici (RMSEA < 0.001). Dávají nám tak dobrý důvod věřit, že naše další kroky a rozhodnutí, která založíme na tomto modelu, budou mít žádoucí efekt na požadované výstupy, tj. na postup oaklandských \"Áček\" do play-off.  "
   ]
  },
  {
   "cell_type": "markdown",
   "metadata": {},
   "source": [
    "## 6. krok: Intervence \n",
    "Na základě výše uvedených zjištění začal management oaklandských „Áček“ do svého týmu vybírat hráče, kteří sice nevyhovovali tradičním kritériím, podle kterých hráčští skauti posuzovali kvalitu baseballových hráčů, ale za to vykazovali přesně ty charakteristiky, které podle DePodestových analýz předpovídaly počet vyhraných a prohraných bodů, a potažmo tedy také pravděpodobnost účasti v play-off, která byla hlavním cílem managementu. Díky tomu, že konkurenční týmy důležitost těchto hráčských statistik podceňovaly a naopak přeceňovaly jiné, méně důležité proměnné (např. míru úspěšnosti odpalů, tzv. *Batting Average*), mohl management oaklandských „Áček“ relativně levně skupovat hráče, kteří jim umožňovali dosahovat stanoveného cíle. Výsledkem bylo to, že oaklandská „Áčka“ vyhrávala zhruba o 20 zápasů za sezónu více než stejně „chudé“ týmy a přibližně stejně tolik zápasů jako 2krát až 3krát bohatší konkurence - viz graf níže. "
   ]
  },
  {
   "cell_type": "code",
   "execution_count": 72,
   "metadata": {
    "collapsed": false
   },
   "outputs": [
    {
     "name": "stderr",
     "output_type": "stream",
     "text": [
      "Parsed with column specification:\n",
      "cols(\n",
      "  yearID = col_integer(),\n",
      "  teamID = col_character(),\n",
      "  lgID = col_character(),\n",
      "  playerID = col_character(),\n",
      "  salary = col_integer()\n",
      ")\n",
      "Parsed with column specification:\n",
      "cols(\n",
      "  .default = col_integer(),\n",
      "  lgID = col_character(),\n",
      "  teamID = col_character(),\n",
      "  franchID = col_character(),\n",
      "  divID = col_character(),\n",
      "  DivWin = col_character(),\n",
      "  WCWin = col_character(),\n",
      "  LgWin = col_character(),\n",
      "  WSWin = col_character(),\n",
      "  HBP = col_character(),\n",
      "  SF = col_character(),\n",
      "  ERA = col_double(),\n",
      "  FP = col_double(),\n",
      "  name = col_character(),\n",
      "  park = col_character(),\n",
      "  teamIDBR = col_character(),\n",
      "  teamIDlahman45 = col_character(),\n",
      "  teamIDretro = col_character()\n",
      ")\n",
      "See spec(...) for full column specifications.\n"
     ]
    },
    {
     "data": {},
     "metadata": {},
     "output_type": "display_data"
    },
    {
     "data": {
      "image/png": "[encoded data removed]",
      "text/plain": [
       "plot without title"
      ]
     },
     "metadata": {},
     "output_type": "display_data"
    }
   ],
   "source": [
    "# Načtěme si potřebná data Lahmanovy baseballové databáze, která je veřejně přístupná na adrese http://seanlahman.com/baseball-archive/statistics/\n",
    "mzdyHracu <- read_csv(\"./Salaries.csv\")\n",
    "vyhryTymu <- read_csv(\"./Teams.csv\")\n",
    "\n",
    "# Vypočtěme si průměrnou sumu mezd vyplácených jednotlivými týmy svým hráčům v letech 1998-2001 \n",
    "prumerna_suma_MezdHracu <- mzdyHracu %>%\n",
    "  filter(yearID > 1997 & yearID < 2002) %>%\n",
    "  group_by(teamID) %>%\n",
    "  summarise(prumerna_suma_MezdHracu = sum(salary)/length(unique(yearID)))\n",
    "\n",
    "# Vypočtěme si pro jednotlivé týmy průměrný počet výher za sezónu v letech 1998-2001\n",
    "prumerny_pocet_vyher <- vyhryTymu %>%\n",
    "  filter(yearID > 1997 & yearID < 2002) %>%\n",
    "  group_by(teamID) %>%\n",
    "  summarise(prumerny_pocet_vyher = sum(W)/length(unique(yearID)))\n",
    "\n",
    "# Vyjádřeme si graficky vztah mezi počtem výher a množstvím peněz, které týmy vynakládají na mzdy svých hráčů \n",
    "library(ggrepel)\n",
    "prumerna_suma_MezdHracu %>%\n",
    "  left_join(prumerny_pocet_vyher, \"teamID\") %>%\n",
    "  mutate(OAK = ifelse(teamID == \"OAK\", \"ano\", \"ne\")) %>%\n",
    "  ggplot(aes(x= prumerna_suma_MezdHracu, y = prumerny_pocet_vyher, fill = OAK)) +\n",
    "  geom_point()+\n",
    "  ggtitle(\"Mzdy hráčů a počet vítězství v letech 1998-2001\")+\n",
    "  xlab(\"Průměrná suma mezd hráčů (USD)\")+\n",
    "  ylab(\"Průměrný počet výher za sezónu\")+\n",
    "  geom_label_repel(\n",
    "    aes(label = teamID),\n",
    "    box.padding = 0.25, point.padding = 0.25,\n",
    "    segment.color = 'grey50')+\n",
    "  theme(legend.position=\"none\")+\n",
    "  scale_fill_manual(values = c(\"#ffd400\", \"#ffffff\"), \n",
    "                        labels = c(\"ano\",\"ne\"))+\n",
    "  scale_y_continuous(limits=c(65,100), breaks = seq(65,100,5)) +\n",
    "  scale_x_continuous(limits=c(2e+07,9e+07), breaks = seq(2e+07,9e+07,1e+07))"
   ]
  },
  {
   "cell_type": "markdown",
   "metadata": {},
   "source": [
    "## Omezení prediktivní analytiky\n",
    "Přes veškerou přidanou hodnotu, kterou HR analytika pro organizaci může mít, je vhodné si vůči ní zachovat zdravou míru skepse a být si vědom jejích omezení. Níže uvádím přehled několika z nich.\n",
    "\n",
    "* Kvalita a užitečnost výstupů HR analytiky je závislá na kvalitě dat, která do ní vstupují. Jako kdekoli jinde i zde platí okřídlené rčení „*rubbish in, rubbish out*“. Schopnost získat potřebná data včas, v dostatečné kvalitě a v dostatečném množství přitom představuje jedno z nejužších hrdel celého procesu zavádění HR analytiky v organizacích.\n",
    "\n",
    "* HR analytika pracuje s historickými daty a vychází z předpokladu, že minulost je dobrým prediktorem budoucnosti. Ale jak nás na to opakovaně upozorňují odborníci jako [Nassim Taleb](https://en.wikipedia.org/wiki/Nassim_Nicholas_Taleb) nebo [Philip Tetlock](https://en.wikipedia.org/wiki/Philip_E._Tetlock), tento vztah mezi minulostí a budoucností platí pouze do určité míry a pouze v relativně krátkém časovém horizontu. Na každém rohu na nás číhá nějaká potenciální [černá labuť](https://en.wikipedia.org/wiki/The_Black_Swan:_The_Impact_of_the_Highly_Improbable), která může postavit na hlavu všechno, co jsme se na základě našich minulých zkušeností naučili brát jako samozřejmou jistotu. \n",
    "\n",
    "* Ne každé prostředí je stejně předvídatelné jako svět sportu. Poměr [signálu a šumu](https://www.kosmas.cz/knihy/191522/signal-a-sum/) se může napříč různými oblastmi významně lišit a čím více převládá náhodný šum nad signálem, tím méně jsou výstupy z HR analytiky užitečné. Příkladem zde může být relativně neúspěšná snaha předpovídat to, jak si baseballové týmu povedou v play-off. Na rozdíl od základní části soutěže, kde se hraje dostatek zápasů na to, aby se vyrušil vliv náhodného štěstí a smůly, v pětizápasových kolech play-off hraje náhoda tak významnou roli, že souvislost mezi celkovým počtem vítězství v základní části a pořadím týmu v play-off je téměř nulová.  "
   ]
  },
  {
   "cell_type": "code",
   "execution_count": 73,
   "metadata": {
    "collapsed": false
   },
   "outputs": [
    {
     "data": {
      "text/plain": [
       "\n",
       "\tKendall's rank correlation tau\n",
       "\n",
       "data:  W and RankPlayoffs\n",
       "z = -0.48318, p-value = 0.629\n",
       "alternative hypothesis: true tau is not equal to 0\n",
       "sample estimates:\n",
       "        tau \n",
       "-0.05541167 \n"
      ]
     },
     "metadata": {},
     "output_type": "display_data"
    }
   ],
   "source": [
    "# Vyfiltrujme si data mezi lety 1994-2011, kdy v play-off hraje 8 týmů.\n",
    "moneyball3 <- moneyball %>%\n",
    "  filter(Year < 2012 & Year > 1993)\n",
    "  \n",
    "# Výpočtěme si Kendallovu pořadovou korelaci mezi mezi celkovýmm počtem vítězství v základní části soutěže a pořadím týmu v play-off mezi lety 1994-2011. \n",
    "suppressWarnings(cor.test(~ W + RankPlayoffs, data = moneyball3, method = \"kendall\"))"
   ]
  },
  {
   "cell_type": "markdown",
   "metadata": {},
   "source": [
    "*\tČísla mají tu zvláštní moc, že dokážou v člověku velice snadno vzbudit dojem, že toho víme mnohem více než je tomu ve skutečnosti. Je však dobré si být vědom toho, že každá statistická předpověď je vždy zatížena nějakou mírou chyby, tu větší, tu menší. Velkou výhodou statistických modelů je to, že tato chyba je u nich explicitně vyčíslena, takže s ní lze dopředu počítat a zohlednit ji při následném rozhodování. Tato „upřímnost“ ohledně své vlastní omylnosti paradoxně mnohdy staví statistické modely do horšího světla než jinak méně přesné intuitivní úsudky expertů, pro které podobné údaje o míře jejich omylnosti většinou nejsou vůbec k dispozici. \n",
    "\n",
    "* Velikost výhody, kterou nám zavedení HR analytiky dává, může být závislá na tom, zda podobné postupy využívá také naše konkurence. Opět to lze celkem dobře doložit na oaklandských „Áčkách“. Jejich výsledky se mezi lety 2002 až 2012, tj. v době po zveřejnění Moneyballu, kdy již všechny týmy měly příležitost seznámit se s principy prediktivní analytiky a zavést ji do své praxe, začaly více přibližovat výsledkům podobně „chudých“ soupeřů a naopak jejich bohatší soupeři jim svým výkonem zase trochu odskočili - viz graf níže. Z toho mimo jiné vyplývá, že s tím, jak se stále více a více společností bude při řízení lidských zdrojů spoléhat na výstupy z HR analytiky, přestane být HR analytika nějakou zásadní konkurenční výhodou a stane se z ní druh nutnosti, která organizaci \"pouze\" umožní udržet krok s konkurencí.       "
   ]
  },
  {
   "cell_type": "code",
   "execution_count": 74,
   "metadata": {
    "collapsed": false
   },
   "outputs": [
    {
     "data": {},
     "metadata": {},
     "output_type": "display_data"
    },
    {
     "data": {
      "image/png": "[encoded data removed]",
      "text/plain": [
       "plot without title"
      ]
     },
     "metadata": {},
     "output_type": "display_data"
    }
   ],
   "source": [
    "# Vypočtěme si průměrnou sumu mezd vyplácených jednotlivými týmy svým hráčům v letech 2002-2012 \n",
    "prumerna_suma_MezdHracu2 <- mzdyHracu %>%\n",
    "  filter(yearID > 2001 & yearID <= 2012) %>%\n",
    "  group_by(teamID) %>%\n",
    "  summarise(prumerna_suma_MezdHracu = sum(salary)/length(unique(yearID)))\n",
    "\n",
    "# Vypočtěme si pro jednotlivé týmy průměrný počet výher za sezónu v letech 2002-2012\n",
    "prumerny_pocet_vyher2 <- vyhryTymu %>%\n",
    "  filter(yearID > 2001 & yearID <=2012) %>%\n",
    "  group_by(teamID) %>%\n",
    "  summarise(prumerny_pocet_vyher = sum(W)/length(unique(yearID)))\n",
    "\n",
    "# Vyjádřeme si graficky vztah mezi počtem výher a množstvím peněz, které týmy vynakládají na mzdy svých hráčů \n",
    "prumerna_suma_MezdHracu2 %>%\n",
    "  left_join(prumerny_pocet_vyher2, \"teamID\") %>%\n",
    "  mutate(OAK = ifelse(teamID == \"OAK\", \"ano\", \"ne\")) %>%\n",
    "  ggplot(aes(x= prumerna_suma_MezdHracu, y = prumerny_pocet_vyher, fill = OAK)) +\n",
    "  geom_point()+\n",
    "  ggtitle(\"Mzdy hráčů a počet vítězství v letech 2002-2012\")+\n",
    "  xlab(\"Průměrná suma mezd hráčů (USD)\")+\n",
    "  ylab(\"Průměrný počet výher za sezónu\")+\n",
    "  geom_label_repel(\n",
    "    aes(label = teamID),\n",
    "    box.padding = 0.25, point.padding = 0.25,\n",
    "    segment.color = 'grey50')+\n",
    "  theme(legend.position=\"none\")+\n",
    "  scale_fill_manual(values = c(\"#ffd400\", \"#ffffff\"), \n",
    "                        labels = c(\"ano\",\"ne\")) +\n",
    "  scale_y_continuous(limits=c(65,100), breaks = seq(65,100,5)) +\n",
    "  scale_x_continuous(limits=c(3e+07,2e+08), breaks = seq(3e+07,2e+08,2e+07))"
   ]
  },
  {
   "cell_type": "markdown",
   "metadata": {},
   "source": [
    "Na příkladu oaklandského baseballového mužstva jsme takto mohli sledovat obvyklý postup aplikace prediktivní analytiky na určitý druh problému, který se snaží v dané organizaci vyřešit. Vzhledem ke specifickému předmětu podnikání oaklandských „Áček“ bylo tímto cílem dosáhnout postupu do play-off a to v situaci, kdy management neměl dostatek finančních prostředků na zaplacení hráčů považovaných dle tradičních měřítek za kvalitní a perspektivní. Od tohoto cíle se potom odvíjela řada kroků, které blíže specifikovaly jeho povahu a identifikovaly faktory, které s jeho dosažením souvisí. Na základě této znalosti potom bylo možné formulovat určité předpovědi a učinit jistá rozhodnutí, která zvýšila pravděpodobnost toho, že se podaří  vytčeného cíle dosáhnout. Přestože tento příběh o využití prediktivní analytiky se odehrál ve světě sportu, jeho logika je platná i v kontextu tradičnějšího typu organizací. Ostatně **ve všech typech organizací jde nakonec především o to mít na správném místě a ve správný čas ty správné lidi** - jedině tak tyto organizace mohou systematicky dosahovat svých strategických cílů. "
   ]
  }
 ],
 "metadata": {
  "kernelspec": {
   "display_name": "R",
   "language": "R",
   "name": "ir"
  },
  "language_info": {
   "codemirror_mode": "r",
   "file_extension": ".r",
   "mimetype": "text/x-r-source",
   "name": "R",
   "pygments_lexer": "r",
   "version": "3.4.1"
  }
 },
 "nbformat": 4,
 "nbformat_minor": 2
}
